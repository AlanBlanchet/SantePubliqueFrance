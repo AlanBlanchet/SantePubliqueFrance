{
 "cells": [
  {
   "cell_type": "markdown",
   "metadata": {},
   "source": [
    "# Import de tous les modules"
   ]
  },
  {
   "cell_type": "code",
   "execution_count": 12,
   "metadata": {},
   "outputs": [],
   "source": [
    "import pandas as pd\n",
    "import numpy as np"
   ]
  },
  {
   "cell_type": "markdown",
   "metadata": {},
   "source": [
    "On lit le fichier `fr.openfoodfacts.org.products.csv` avec le séparateur `\\t`. Les valeures seront dans la variable `data`"
   ]
  },
  {
   "cell_type": "code",
   "execution_count": 23,
   "metadata": {},
   "outputs": [],
   "source": [
    "chunksize = 10 ** 3\n",
    "data = None\n",
    "for chunk in pd.read_csv(\"fr.openfoodfacts.org.products.csv\", chunksize=chunksize, sep=\"\\t\"):\n",
    "    \n",
    "    data = chunk\n",
    "    break\n",
    "\n"
   ]
  },
  {
   "cell_type": "markdown",
   "metadata": {},
   "source": [
    "# Selection des données qui seront intéressantes pour le projet\n",
    "\n",
    "Cela permet surtout de ne pas trop utiliser la mémoire pour les données qui ne me seront pas utiles"
   ]
  },
  {
   "cell_type": "markdown",
   "metadata": {},
   "source": [
    "- `index`, pour nos analyses on pourra s'en passer\n",
    "- `code`, pour nos analyses on pourra s'en passer\n",
    "- `url`, utile pour retrouver la source sur le site\n",
    "- `creator`, pas très utile de savoir qui a contribué pour cette donnée\n",
    "- `created_t`, date de création peut être utile par exemple pour comparer avec le nombre de modifications.\n",
    "- `created_datetime`, même donnée que `created_t` au format `iso8601`. On préférera celle-ci à la `created_t`. On essayera, si une ligne est NaN de voir si la donnée existe dans `created_t`.\n",
    "- `last_modified_t`, dernière modification de la donnée. Peut être utile pour voir si un produit est controversé ou évolue vite.\n",
    "- `last_modified_datetime`, pareil que pour `created_datetime`.\n",
    "- `product_name`, utile pour afficher le nom du produit.\n",
    "- `generic_name`, utile si le `product_name` n'est pas exploitable\n",
    "- `quantity`, très utile pour de multiple raisons. On peut comparer à beaucoup d'autres attributs\n",
    "- "
   ]
  },
  {
   "cell_type": "code",
   "execution_count": 19,
   "metadata": {},
   "outputs": [],
   "source": [
    "data = data.filter([\"url\", \"created_t\", \"created_datetime\", \"last_modified_t\",\"last_modified_datetime\", \"product_name\",\"quantity\", \"packaging\", \"brands\",\"categories\"], axis=1)"
   ]
  },
  {
   "cell_type": "markdown",
   "metadata": {},
   "source": [
    "# Vérification des erreurs sur les variables générales"
   ]
  },
  {
   "cell_type": "code",
   "execution_count": null,
   "metadata": {},
   "outputs": [],
   "source": [
    "# Code\n"
   ]
  }
 ],
 "metadata": {
  "kernelspec": {
   "display_name": "Python 3.10.4 ('oc')",
   "language": "python",
   "name": "python3"
  },
  "language_info": {
   "codemirror_mode": {
    "name": "ipython",
    "version": 3
   },
   "file_extension": ".py",
   "mimetype": "text/x-python",
   "name": "python",
   "nbconvert_exporter": "python",
   "pygments_lexer": "ipython3",
   "version": "3.10.4"
  },
  "orig_nbformat": 4,
  "vscode": {
   "interpreter": {
    "hash": "4682fd4cc275dd3b54e0a35cb379629832c3925d282fc495d205b56d070a9985"
   }
  }
 },
 "nbformat": 4,
 "nbformat_minor": 2
}
