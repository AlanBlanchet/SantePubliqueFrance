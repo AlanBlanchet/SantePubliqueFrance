{
 "cells": [
  {
   "cell_type": "markdown",
   "metadata": {},
   "source": [
    "# Import de tous les modules"
   ]
  },
  {
   "cell_type": "code",
   "execution_count": 2,
   "metadata": {},
   "outputs": [],
   "source": [
    "import pandas as pd\n",
    "import numpy as np"
   ]
  },
  {
   "cell_type": "markdown",
   "metadata": {},
   "source": [
    "On lit le fichier `fr.openfoodfacts.org.products.csv` avec le séparateur `\\t`. Le résultat sera dans la variable `data`"
   ]
  },
  {
   "cell_type": "code",
   "execution_count": 3,
   "metadata": {},
   "outputs": [],
   "source": [
    "chunksize = 10 ** 3\n",
    "data = None\n",
    "for chunk in pd.read_csv(\"fr.openfoodfacts.org.products.csv\", chunksize=chunksize, sep=\"\\t\"):\n",
    "    data = chunk\n",
    "    break"
   ]
  },
  {
   "cell_type": "markdown",
   "metadata": {},
   "source": [
    "### On regarde le tableau des valeurs qui ne sont pas définies\n",
    "\n",
    "On regardera surtout les colonnes qui ont plus de 90 % de valeures non définies. Cela nous aidera à savoir s'il est utile de prendre une colonne ou non."
   ]
  },
  {
   "cell_type": "code",
   "execution_count": 4,
   "metadata": {},
   "outputs": [
    {
     "name": "stdout",
     "output_type": "stream",
     "text": [
      "Sur 162 colonnes, il y en a 102 qui ont au moins 90% de valeurs manquantes dont 17 qui n'ont aucune valeurs\n",
      "Les colonnes qui n'ont aucune valeurs sont les suivantes :\n",
      "['no_nutriments' 'ingredients_from_palm_oil'\n",
      " 'ingredients_that_may_be_from_palm_oil' 'nutrition_grade_uk'\n",
      " 'butyric-acid_100g' 'caproic-acid_100g' 'lignoceric-acid_100g'\n",
      " 'cerotic-acid_100g' 'montanic-acid_100g' 'melissic-acid_100g'\n",
      " 'elaidic-acid_100g' 'mead-acid_100g' 'erucic-acid_100g'\n",
      " 'nervonic-acid_100g' 'chlorophyl_100g' 'glycemic-index_100g'\n",
      " 'water-hardness_100g']\n"
     ]
    }
   ],
   "source": [
    "# On lis les valeurs non definies\n",
    "missing = pd.read_csv(\"fr.openfoodfacts.org.products.csv\", sep=\"\\t\", low_memory=False).isna()\n",
    "# On les compte et on créer un nouveau DataFrame\n",
    "missing_sum = pd.DataFrame(missing.sum(), columns=['nb_manquants'])\n",
    "# On calcul et ajoute le ratio au DataFrame\n",
    "missing_sum[\"ratio\"] = ((missing_sum[\"nb_manquants\"] / len(missing)) )\n",
    "# On garde les ratio > 0.9\n",
    "missing_sum_90 = missing_sum[missing_sum[\"ratio\"] > 0.9]\n",
    "# On garde les ratio == 1\n",
    "missing_sum_90_1 = missing_sum_90[missing_sum_90[\"ratio\"] == 1]\n",
    "\n",
    "print(f\"Sur {len(missing_sum)} colonnes, il y en a {len(missing_sum_90)} qui ont au moins 90% de valeurs manquantes dont {len(missing_sum_90_1)} qui n'ont aucune valeurs\")\n",
    "print(f\"Les colonnes qui n'ont aucune valeurs sont les suivantes :\")\n",
    "print(missing_sum_90_1.index.to_numpy())\n",
    "# On exporte ces données en .csv pour analyser si besoin\n",
    "missing_sum.to_csv(\"valeures_manquantes.csv\")\n",
    "missing_sum_90.to_csv(\"valeures_manquantes_90.csv\")"
   ]
  },
  {
   "cell_type": "markdown",
   "metadata": {},
   "source": [
    "# Selection des données qui seront intéressantes pour le projet\n",
    "\n",
    "Cela permet surtout de ne pas trop utiliser la mémoire pour les données qui ne me seront pas utiles. On gardera les `tags` pour faire nos analyses.\n",
    "On peut également dors et déjà éliminer les 17 colonnes qui n'ont aucune valeur. Il n'y a donc pas les éléments suivant dans la liste :\n",
    "\n",
    "`no_nutriments` ; `ingredients_from_palm_oil` ; `ingredients_that_may_be_from_palm_oil` ; `nutrition_grade_uk` ; `butyric-acid_100g` ; `caproic-acid_100g` ; `lignoceric-acid_100g` ; `cerotic-acid_100g` ; `montanic-acid_100g` ; `melissic-acid_100g` ; `elaidic-acid_100g` ; `mead-acid_100g` ; `erucic-acid_100g` ; `nervonic-acid_100g` ; `chlorophyl_100g` ; `glycemic-index_100g` ; `water-hardness_100g`"
   ]
  },
  {
   "cell_type": "markdown",
   "metadata": {},
   "source": [
    "- ❌ `code`, pour nos analyses on pourra s'en passer\n",
    "- ✅ `url`, utile pour retrouver la source sur le site\n",
    "- ✅ `creator`, pas très utile de savoir qui a contribué pour cette donnée\n",
    "- ✅ `created_t`, date de création peut être utile par exemple pour comparer avec le nombre de modifications.\n",
    "- ✅ `created_datetime`, même donnée que created_t au format iso8601. On préférera celle-ci à la created_t. On essayera, si une ligne est NaN de voir si la donnée existe dans created_t.\n",
    "- ✅ `last_modified_t`, dernière modification de la donnée. Peut être utile pour voir si un produit est controversé ou évolue vite.\n",
    "- ✅ `last_modified_datetime`, pareil que pour created_datetime.\n",
    "- ✅ `product_name`, utile pour afficher le nom du produit.\n",
    "- ✅ `generic_name`, utile si le product_name n'est pas exploitable\n",
    "- ✅ `quantity`, très utile pour de multiple raisons. On peut comparer à beaucoup d'autres attributs\n",
    "- ✅ `packaging`, utile si besoin pour comparer écologiquement\n",
    "- ✅ `packaging_tags`, on gardera `packaging_tags` car parfois la nomenclature n'est pas identique pour 2 valeurs qui sont sensé l'être. Par exemple il y a les valeurs \"boîte\" et \"Boîte\".\n",
    "- ✅ `brands`, utile si besoin de connaître la marque qui fabrique le produit\n",
    "- ✅ `brands_tags`, /\n",
    "- ✅ `categories`, une possible utilité.\n",
    "- ✅ `categories_tags`, /\n",
    "- ✅ `categories_fr`, cette colonne représente le français de `categories`, or dans `categories` il y a du français / anglais mélangé.\n",
    "- ✅ `origins`, connaître la provenance des ingrédients est utile par exemple pour effectuer un classement de pays par nutri-scrore\n",
    "- ✅ `origins_tags`, /\n",
    "- ✅ `manufacturing_places`, intéressant d'avoir le lieux de fabrication du produit.\n",
    "- ✅ `manufacturing_places_tags`, /\n",
    "- ✅ `labels`, labels peut être intéressant dans certains cas\n",
    "- ✅ `labels_tags`, /\n",
    "- ✅ `labels_fr`, peu de sens puisqu'il y a du français dans `labels` et de l'anglais dans `labels_fr`.\n",
    "- ❌ `emb_codes`, code interne peu utile. Les tags sont quasiement tous différents\n",
    "- ❌ `emb_codes_tags`, /\n",
    "- ❌ `first_packaging_code_geo`, pas assez de données pour être exploité (93% na)\n",
    "- ❌ `cities`, quasi 100% des données na. Pas utile\n",
    "- ❌ `cities_tags`, /\n",
    "- ✅ `purchase_places`, utile pour connaître les lieux de distribution du produit.\n",
    "- ✅ `stores`, utile pour connaître les distributeurs de ce produit.\n",
    "- ❌ `countries`, l'origine du produit pour connaître les pays qui exportent le plus de produits différents par exemple. On gardera les _tags et le _fr uniquement.\n",
    "- ✅ `countries_tags`, /\n",
    "- ✅ `countries_fr`, /\n",
    "- ✅ `ingredients_text`,\n",
    "- ✅ `traces`,\n",
    "- ✅ `traces_tags`,\n",
    "- ✅ `serving_size`,\n",
    "- ✅ `additives_n`,\n",
    "- ✅ `additives`,\n",
    "- ✅ `additives_tags`,\n",
    "- ❌ `ingredients_from_palm_oil_n`, peu de données, majoritairement des 0 pour les valeurs définies\n",
    "- ❌ `ingredients_from_palm_oil_tags`, peu de données\n",
    "- ❌ `ingredients_that_may_be_from_palm_oil_n`, certaines données sont insérées mais pas comparable aux autre colonnes...\n",
    "- ❌ `ingredients_that_may_be_from_palm_oil`, donnée peu intéressante pour mon sujet\n",
    "- ❌ `ingredients_that_may_be_from_palm_oil_tags`, /\n",
    "- ✅ `nutrition_grade_fr`,\n",
    "- ✅ `main_category`,\n",
    "- ✅ `main_category_fr`,\n",
    "- ✅ `image_url`,\n",
    "- ✅ `image_small_url`,\n",
    "- ✅ `energy_100g`,\n",
    "energy-kj_100g\n",
    "energy-kcal_100g\n",
    "proteins_100g\n",
    "casein_100g\n",
    "serum-proteins_100g\n",
    "nucleotides_100g\n",
    "carbohydrates_100g\n",
    "sugars_100g\n",
    "sucrose_100g\n",
    "glucose_100g\n",
    "fructose_100g\n",
    "lactose_100g\n",
    "maltose_100g\n",
    "maltodextrins_100g\n",
    "starch_100g\n",
    "polyols_100g\n",
    "fat_100g\n",
    "saturated-fat_100g\n",
    "caprylic-acid_100g\n",
    "capric-acid_100g\n",
    "lauric-acid_100g\n",
    "myristic-acid_100g\n",
    "palmitic-acid_100g\n",
    "stearic-acid_100g\n",
    "arachidic-acid_100g\n",
    "behenic-acid_100g\n",
    "monounsaturated-fat_100g\n",
    "polyunsaturated-fat_100g\n",
    "omega-3-fat_100g\n",
    "alpha-linolenic-acid_100g\n",
    "eicosapentaenoic-acid_100g\n",
    "docosahexaenoic-acid_100g\n",
    "omega-6-fat_100g\n",
    "linoleic-acid_100g\n",
    "arachidonic-acid_100g\n",
    "gamma-linolenic-acid_100g\n",
    "dihomo-gamma-linolenic-acid_100g\n",
    "omega-9-fat_100g\n",
    "oleic-acid_100g\n",
    "gondoic-acid_100g\n",
    "trans-fat_100g\n",
    "cholesterol_100g\n",
    "fiber_100g\n",
    "sodium_100g\n",
    "alcohol_100g\n",
    "vitamin-a_100g\n",
    "vitamin-d_100g\n",
    "vitamin-e_100g\n",
    "vitamin-k_100g\n",
    "vitamin-c_100g\n",
    "vitamin-b1_100g\n",
    "vitamin-b2_100g\n",
    "vitamin-pp_100g\n",
    "vitamin-b6_100g\n",
    "vitamin-b9_100g\n",
    "vitamin-b12_100g\n",
    "biotin_100g\n",
    "pantothenic-acid_100g\n",
    "silica_100g\n",
    "bicarbonate_100g\n",
    "potassium_100g\n",
    "chloride_100g\n",
    "calcium_100g\n",
    "phosphorus_100g\n",
    "iron_100g\n",
    "magnesium_100g\n",
    "zinc_100g\n",
    "copper_100g\n",
    "manganese_100g\n",
    "fluoride_100g\n",
    "selenium_100g\n",
    "chromium_100g\n",
    "molybdenum_100g\n",
    "iodine_100g\n",
    "caffeine_100g\n",
    "taurine_100g\n",
    "ph_100g\n",
    "fruits-vegetables-nuts_100g\n",
    "carbon-footprint_100g : carbon footprint (as indicated on the packaging of some products)\n",
    "nutrition-score-fr_100g : Nutri-Score - Nutrition score derived from the UK FSA score and adapted for the French market (formula defined by the team of Professor Hercberg)\n",
    "nutrition-score-uk_100g : nutrition score defined by the UK Food Standards Administration (FSA)"
   ]
  },
  {
   "cell_type": "code",
   "execution_count": null,
   "metadata": {},
   "outputs": [],
   "source": [
    "data = data.filter([\n",
    "    \"url\", \n",
    "    \"created_t\", \n",
    "    \"created_datetime\", \n",
    "    \"last_modified_t\",\n",
    "    \"last_modified_datetime\", \n",
    "    \"product_name\",\n",
    "    \"generic_name\",\n",
    "    \"quantity\", \n",
    "    \"packaging\",\n",
    "    \"packaging_tags\",\n",
    "    \"brands\",\n",
    "    \"categories\"\n",
    "    ], axis=1)"
   ]
  },
  {
   "cell_type": "markdown",
   "metadata": {},
   "source": [
    "# Vérification des erreurs sur les variables générales"
   ]
  },
  {
   "cell_type": "code",
   "execution_count": null,
   "metadata": {},
   "outputs": [],
   "source": [
    "# Code\n"
   ]
  }
 ],
 "metadata": {
  "kernelspec": {
   "display_name": "Python 3.10.4 ('oc')",
   "language": "python",
   "name": "python3"
  },
  "language_info": {
   "codemirror_mode": {
    "name": "ipython",
    "version": 3
   },
   "file_extension": ".py",
   "mimetype": "text/x-python",
   "name": "python",
   "nbconvert_exporter": "python",
   "pygments_lexer": "ipython3",
   "version": "3.10.4"
  },
  "orig_nbformat": 4,
  "vscode": {
   "interpreter": {
    "hash": "4682fd4cc275dd3b54e0a35cb379629832c3925d282fc495d205b56d070a9985"
   }
  }
 },
 "nbformat": 4,
 "nbformat_minor": 2
}
