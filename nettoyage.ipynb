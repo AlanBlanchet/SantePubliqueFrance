{
 "cells": [
  {
   "cell_type": "markdown",
   "metadata": {},
   "source": [
    "# Projet d'analyse d'alimentation de pays différents"
   ]
  },
  {
   "cell_type": "markdown",
   "metadata": {},
   "source": [
    "### Liens\n",
    "\n",
    "- [Site Santé Publique France](https://www.santepubliquefrance.fr/)\n",
    "- [Lien de téléchargement du fichier fr.openfoodfacts.org.products.csv](https://s3-eu-west-1.amazonaws.com/static.oc-static.com/prod/courses/files/parcours-data-scientist/P2/fr.openfoodfacts.org.products.csv.zip) à mettre dans la racine du projet\n",
    "- [Description des attributs](https://world.openfoodfacts.org/data/data-fields.txt)"
   ]
  },
  {
   "cell_type": "markdown",
   "metadata": {},
   "source": [
    "## Partie de nettoyage des données\n",
    "\n",
    "Dans un premier et dans le but de faciliter la compréhension des données, l'objectif est d'analyser celles-ci quantitativement et qualitativement. \n",
    "\n",
    "La partie suivante inclue la mise en évidence des valeurs manquantes avec au moins 3 méthodes de traitement adatpées aux variables concernées et d'identification et quantification de valeurs abbérantes."
   ]
  },
  {
   "cell_type": "markdown",
   "metadata": {},
   "source": [
    "### Imports des modules"
   ]
  },
  {
   "cell_type": "code",
   "execution_count": 1,
   "metadata": {},
   "outputs": [],
   "source": [
    "import pandas as pd\n",
    "import numpy as np\n",
    "import matplotlib.pyplot as plt"
   ]
  },
  {
   "cell_type": "markdown",
   "metadata": {},
   "source": [
    "On lit le fichier `fr.openfoodfacts.org.products.csv` avec le séparateur `\\t`. Les données seront dans la variable `data`"
   ]
  },
  {
   "cell_type": "code",
   "execution_count": 2,
   "metadata": {},
   "outputs": [
    {
     "name": "stderr",
     "output_type": "stream",
     "text": [
      "/tmp/ipykernel_34626/1111784718.py:1: DtypeWarning: Columns (0,3,5,19,20,24,25,26,27,28,35,36,37,38,39,48) have mixed types. Specify dtype option on import or set low_memory=False.\n",
      "  data = pd.read_csv(\"fr.openfoodfacts.org.products.csv\", sep=\"\\t\")\n"
     ]
    }
   ],
   "source": [
    "data = pd.read_csv(\"fr.openfoodfacts.org.products.csv\", sep=\"\\t\")"
   ]
  },
  {
   "cell_type": "code",
   "execution_count": 3,
   "metadata": {},
   "outputs": [
    {
     "data": {
      "text/html": [
       "<div>\n",
       "<style scoped>\n",
       "    .dataframe tbody tr th:only-of-type {\n",
       "        vertical-align: middle;\n",
       "    }\n",
       "\n",
       "    .dataframe tbody tr th {\n",
       "        vertical-align: top;\n",
       "    }\n",
       "\n",
       "    .dataframe thead th {\n",
       "        text-align: right;\n",
       "    }\n",
       "</style>\n",
       "<table border=\"1\" class=\"dataframe\">\n",
       "  <thead>\n",
       "    <tr style=\"text-align: right;\">\n",
       "      <th></th>\n",
       "      <th>no_nutriments</th>\n",
       "      <th>additives_n</th>\n",
       "      <th>ingredients_from_palm_oil_n</th>\n",
       "      <th>ingredients_from_palm_oil</th>\n",
       "      <th>ingredients_that_may_be_from_palm_oil_n</th>\n",
       "      <th>ingredients_that_may_be_from_palm_oil</th>\n",
       "      <th>nutrition_grade_uk</th>\n",
       "      <th>energy_100g</th>\n",
       "      <th>energy-from-fat_100g</th>\n",
       "      <th>fat_100g</th>\n",
       "      <th>...</th>\n",
       "      <th>ph_100g</th>\n",
       "      <th>fruits-vegetables-nuts_100g</th>\n",
       "      <th>collagen-meat-protein-ratio_100g</th>\n",
       "      <th>cocoa_100g</th>\n",
       "      <th>chlorophyl_100g</th>\n",
       "      <th>carbon-footprint_100g</th>\n",
       "      <th>nutrition-score-fr_100g</th>\n",
       "      <th>nutrition-score-uk_100g</th>\n",
       "      <th>glycemic-index_100g</th>\n",
       "      <th>water-hardness_100g</th>\n",
       "    </tr>\n",
       "  </thead>\n",
       "  <tbody>\n",
       "    <tr>\n",
       "      <th>count</th>\n",
       "      <td>0.0</td>\n",
       "      <td>248939.000000</td>\n",
       "      <td>248939.000000</td>\n",
       "      <td>0.0</td>\n",
       "      <td>248939.000000</td>\n",
       "      <td>0.0</td>\n",
       "      <td>0.0</td>\n",
       "      <td>2.611130e+05</td>\n",
       "      <td>857.000000</td>\n",
       "      <td>243891.000000</td>\n",
       "      <td>...</td>\n",
       "      <td>49.000000</td>\n",
       "      <td>3036.000000</td>\n",
       "      <td>165.000000</td>\n",
       "      <td>948.000000</td>\n",
       "      <td>0.0</td>\n",
       "      <td>268.000000</td>\n",
       "      <td>221210.000000</td>\n",
       "      <td>221210.000000</td>\n",
       "      <td>0.0</td>\n",
       "      <td>0.0</td>\n",
       "    </tr>\n",
       "    <tr>\n",
       "      <th>mean</th>\n",
       "      <td>NaN</td>\n",
       "      <td>1.936024</td>\n",
       "      <td>0.019659</td>\n",
       "      <td>NaN</td>\n",
       "      <td>0.055246</td>\n",
       "      <td>NaN</td>\n",
       "      <td>NaN</td>\n",
       "      <td>1.141915e+03</td>\n",
       "      <td>585.501214</td>\n",
       "      <td>12.730379</td>\n",
       "      <td>...</td>\n",
       "      <td>6.425698</td>\n",
       "      <td>31.458587</td>\n",
       "      <td>15.412121</td>\n",
       "      <td>49.547785</td>\n",
       "      <td>NaN</td>\n",
       "      <td>341.700764</td>\n",
       "      <td>9.165535</td>\n",
       "      <td>9.058049</td>\n",
       "      <td>NaN</td>\n",
       "      <td>NaN</td>\n",
       "    </tr>\n",
       "    <tr>\n",
       "      <th>std</th>\n",
       "      <td>NaN</td>\n",
       "      <td>2.502019</td>\n",
       "      <td>0.140524</td>\n",
       "      <td>NaN</td>\n",
       "      <td>0.269207</td>\n",
       "      <td>NaN</td>\n",
       "      <td>NaN</td>\n",
       "      <td>6.447154e+03</td>\n",
       "      <td>712.809943</td>\n",
       "      <td>17.578747</td>\n",
       "      <td>...</td>\n",
       "      <td>2.047841</td>\n",
       "      <td>31.967918</td>\n",
       "      <td>3.753028</td>\n",
       "      <td>18.757932</td>\n",
       "      <td>NaN</td>\n",
       "      <td>425.211439</td>\n",
       "      <td>9.055903</td>\n",
       "      <td>9.183589</td>\n",
       "      <td>NaN</td>\n",
       "      <td>NaN</td>\n",
       "    </tr>\n",
       "    <tr>\n",
       "      <th>min</th>\n",
       "      <td>NaN</td>\n",
       "      <td>0.000000</td>\n",
       "      <td>0.000000</td>\n",
       "      <td>NaN</td>\n",
       "      <td>0.000000</td>\n",
       "      <td>NaN</td>\n",
       "      <td>NaN</td>\n",
       "      <td>0.000000e+00</td>\n",
       "      <td>0.000000</td>\n",
       "      <td>0.000000</td>\n",
       "      <td>...</td>\n",
       "      <td>0.000000</td>\n",
       "      <td>0.000000</td>\n",
       "      <td>8.000000</td>\n",
       "      <td>6.000000</td>\n",
       "      <td>NaN</td>\n",
       "      <td>0.000000</td>\n",
       "      <td>-15.000000</td>\n",
       "      <td>-15.000000</td>\n",
       "      <td>NaN</td>\n",
       "      <td>NaN</td>\n",
       "    </tr>\n",
       "    <tr>\n",
       "      <th>25%</th>\n",
       "      <td>NaN</td>\n",
       "      <td>0.000000</td>\n",
       "      <td>0.000000</td>\n",
       "      <td>NaN</td>\n",
       "      <td>0.000000</td>\n",
       "      <td>NaN</td>\n",
       "      <td>NaN</td>\n",
       "      <td>3.770000e+02</td>\n",
       "      <td>49.400000</td>\n",
       "      <td>0.000000</td>\n",
       "      <td>...</td>\n",
       "      <td>6.300000</td>\n",
       "      <td>0.000000</td>\n",
       "      <td>12.000000</td>\n",
       "      <td>32.000000</td>\n",
       "      <td>NaN</td>\n",
       "      <td>98.750000</td>\n",
       "      <td>1.000000</td>\n",
       "      <td>1.000000</td>\n",
       "      <td>NaN</td>\n",
       "      <td>NaN</td>\n",
       "    </tr>\n",
       "    <tr>\n",
       "      <th>50%</th>\n",
       "      <td>NaN</td>\n",
       "      <td>1.000000</td>\n",
       "      <td>0.000000</td>\n",
       "      <td>NaN</td>\n",
       "      <td>0.000000</td>\n",
       "      <td>NaN</td>\n",
       "      <td>NaN</td>\n",
       "      <td>1.100000e+03</td>\n",
       "      <td>300.000000</td>\n",
       "      <td>5.000000</td>\n",
       "      <td>...</td>\n",
       "      <td>7.200000</td>\n",
       "      <td>23.000000</td>\n",
       "      <td>15.000000</td>\n",
       "      <td>50.000000</td>\n",
       "      <td>NaN</td>\n",
       "      <td>195.750000</td>\n",
       "      <td>10.000000</td>\n",
       "      <td>9.000000</td>\n",
       "      <td>NaN</td>\n",
       "      <td>NaN</td>\n",
       "    </tr>\n",
       "    <tr>\n",
       "      <th>75%</th>\n",
       "      <td>NaN</td>\n",
       "      <td>3.000000</td>\n",
       "      <td>0.000000</td>\n",
       "      <td>NaN</td>\n",
       "      <td>0.000000</td>\n",
       "      <td>NaN</td>\n",
       "      <td>NaN</td>\n",
       "      <td>1.674000e+03</td>\n",
       "      <td>898.000000</td>\n",
       "      <td>20.000000</td>\n",
       "      <td>...</td>\n",
       "      <td>7.400000</td>\n",
       "      <td>51.000000</td>\n",
       "      <td>15.000000</td>\n",
       "      <td>64.250000</td>\n",
       "      <td>NaN</td>\n",
       "      <td>383.200000</td>\n",
       "      <td>16.000000</td>\n",
       "      <td>16.000000</td>\n",
       "      <td>NaN</td>\n",
       "      <td>NaN</td>\n",
       "    </tr>\n",
       "    <tr>\n",
       "      <th>max</th>\n",
       "      <td>NaN</td>\n",
       "      <td>31.000000</td>\n",
       "      <td>2.000000</td>\n",
       "      <td>NaN</td>\n",
       "      <td>6.000000</td>\n",
       "      <td>NaN</td>\n",
       "      <td>NaN</td>\n",
       "      <td>3.251373e+06</td>\n",
       "      <td>3830.000000</td>\n",
       "      <td>714.290000</td>\n",
       "      <td>...</td>\n",
       "      <td>8.400000</td>\n",
       "      <td>100.000000</td>\n",
       "      <td>25.000000</td>\n",
       "      <td>100.000000</td>\n",
       "      <td>NaN</td>\n",
       "      <td>2842.000000</td>\n",
       "      <td>40.000000</td>\n",
       "      <td>40.000000</td>\n",
       "      <td>NaN</td>\n",
       "      <td>NaN</td>\n",
       "    </tr>\n",
       "  </tbody>\n",
       "</table>\n",
       "<p>8 rows × 106 columns</p>\n",
       "</div>"
      ],
      "text/plain": [
       "       no_nutriments    additives_n  ingredients_from_palm_oil_n  \\\n",
       "count            0.0  248939.000000                248939.000000   \n",
       "mean             NaN       1.936024                     0.019659   \n",
       "std              NaN       2.502019                     0.140524   \n",
       "min              NaN       0.000000                     0.000000   \n",
       "25%              NaN       0.000000                     0.000000   \n",
       "50%              NaN       1.000000                     0.000000   \n",
       "75%              NaN       3.000000                     0.000000   \n",
       "max              NaN      31.000000                     2.000000   \n",
       "\n",
       "       ingredients_from_palm_oil  ingredients_that_may_be_from_palm_oil_n  \\\n",
       "count                        0.0                            248939.000000   \n",
       "mean                         NaN                                 0.055246   \n",
       "std                          NaN                                 0.269207   \n",
       "min                          NaN                                 0.000000   \n",
       "25%                          NaN                                 0.000000   \n",
       "50%                          NaN                                 0.000000   \n",
       "75%                          NaN                                 0.000000   \n",
       "max                          NaN                                 6.000000   \n",
       "\n",
       "       ingredients_that_may_be_from_palm_oil  nutrition_grade_uk  \\\n",
       "count                                    0.0                 0.0   \n",
       "mean                                     NaN                 NaN   \n",
       "std                                      NaN                 NaN   \n",
       "min                                      NaN                 NaN   \n",
       "25%                                      NaN                 NaN   \n",
       "50%                                      NaN                 NaN   \n",
       "75%                                      NaN                 NaN   \n",
       "max                                      NaN                 NaN   \n",
       "\n",
       "        energy_100g  energy-from-fat_100g       fat_100g  ...    ph_100g  \\\n",
       "count  2.611130e+05            857.000000  243891.000000  ...  49.000000   \n",
       "mean   1.141915e+03            585.501214      12.730379  ...   6.425698   \n",
       "std    6.447154e+03            712.809943      17.578747  ...   2.047841   \n",
       "min    0.000000e+00              0.000000       0.000000  ...   0.000000   \n",
       "25%    3.770000e+02             49.400000       0.000000  ...   6.300000   \n",
       "50%    1.100000e+03            300.000000       5.000000  ...   7.200000   \n",
       "75%    1.674000e+03            898.000000      20.000000  ...   7.400000   \n",
       "max    3.251373e+06           3830.000000     714.290000  ...   8.400000   \n",
       "\n",
       "       fruits-vegetables-nuts_100g  collagen-meat-protein-ratio_100g  \\\n",
       "count                  3036.000000                        165.000000   \n",
       "mean                     31.458587                         15.412121   \n",
       "std                      31.967918                          3.753028   \n",
       "min                       0.000000                          8.000000   \n",
       "25%                       0.000000                         12.000000   \n",
       "50%                      23.000000                         15.000000   \n",
       "75%                      51.000000                         15.000000   \n",
       "max                     100.000000                         25.000000   \n",
       "\n",
       "       cocoa_100g  chlorophyl_100g  carbon-footprint_100g  \\\n",
       "count  948.000000              0.0             268.000000   \n",
       "mean    49.547785              NaN             341.700764   \n",
       "std     18.757932              NaN             425.211439   \n",
       "min      6.000000              NaN               0.000000   \n",
       "25%     32.000000              NaN              98.750000   \n",
       "50%     50.000000              NaN             195.750000   \n",
       "75%     64.250000              NaN             383.200000   \n",
       "max    100.000000              NaN            2842.000000   \n",
       "\n",
       "       nutrition-score-fr_100g  nutrition-score-uk_100g  glycemic-index_100g  \\\n",
       "count            221210.000000            221210.000000                  0.0   \n",
       "mean                  9.165535                 9.058049                  NaN   \n",
       "std                   9.055903                 9.183589                  NaN   \n",
       "min                 -15.000000               -15.000000                  NaN   \n",
       "25%                   1.000000                 1.000000                  NaN   \n",
       "50%                  10.000000                 9.000000                  NaN   \n",
       "75%                  16.000000                16.000000                  NaN   \n",
       "max                  40.000000                40.000000                  NaN   \n",
       "\n",
       "       water-hardness_100g  \n",
       "count                  0.0  \n",
       "mean                   NaN  \n",
       "std                    NaN  \n",
       "min                    NaN  \n",
       "25%                    NaN  \n",
       "50%                    NaN  \n",
       "75%                    NaN  \n",
       "max                    NaN  \n",
       "\n",
       "[8 rows x 106 columns]"
      ]
     },
     "execution_count": 3,
     "metadata": {},
     "output_type": "execute_result"
    }
   ],
   "source": [
    "data.describe()"
   ]
  },
  {
   "cell_type": "code",
   "execution_count": 4,
   "metadata": {},
   "outputs": [],
   "source": [
    "# On peut d'ores et déjà formatter les valeurs NaN\n",
    "data.replace(['None', 'nan', None, 'NaN', ' '], np.nan, inplace=True)"
   ]
  },
  {
   "cell_type": "markdown",
   "metadata": {},
   "source": [
    "### Analyse quantitative des données"
   ]
  },
  {
   "cell_type": "code",
   "execution_count": 5,
   "metadata": {},
   "outputs": [
    {
     "data": {
      "image/png": "[encoded data removed]",
      "text/plain": [
       "<Figure size 640x480 with 1 Axes>"
      ]
     },
     "metadata": {},
     "output_type": "display_data"
    },
    {
     "name": "stdout",
     "output_type": "stream",
     "text": [
      "Sur tout le dataset, on a un taux de valeurs manquantes qui équivaut à 76.22 %.\n",
      "Sur 162 colonnes, il y en a 16 qui n'ont aucune valeurs\n",
      "Les colonnes qui n'ont aucune valeurs sont les suivantes :\n",
      "['no_nutriments' 'ingredients_from_palm_oil'\n",
      " 'ingredients_that_may_be_from_palm_oil' 'nutrition_grade_uk'\n",
      " 'butyric-acid_100g' 'caproic-acid_100g' 'lignoceric-acid_100g'\n",
      " 'cerotic-acid_100g' 'melissic-acid_100g' 'elaidic-acid_100g'\n",
      " 'mead-acid_100g' 'erucic-acid_100g' 'nervonic-acid_100g'\n",
      " 'chlorophyl_100g' 'glycemic-index_100g' 'water-hardness_100g']\n"
     ]
    }
   ],
   "source": [
    "# On peut définir une fonction qui nous permettra plus tard d'identifier le pourcentage de Nulls pour une colonne\n",
    "def defined_percentage(data, col):\n",
    "    c = data.loc[data[col].notna(), col]\n",
    "    return (len(c) / data.shape[0]) * 100, c\n",
    "\n",
    "# On lis les valeurs non definies\n",
    "missing = data.isna()\n",
    "# On les compte et on créer un nouveau DataFrame\n",
    "missing_sum = pd.DataFrame(missing.sum(), columns=['nb_manquants'])\n",
    "# On calcul et ajoute le ratio du nombre de valeurs non définies au DataFrame\n",
    "missing_sum[\"ratio\"] = ((missing_sum[\"nb_manquants\"] / len(data)) )\n",
    "\n",
    "# On va construire un graphique pour nous montrer le nombre de valeurs manquantes\n",
    "plt.title(\"Ratio de valeurs manquantes par colonnes\")\n",
    "plt.ylabel(\"Ratio\")\n",
    "plt.xlabel(\"Colonnes\")\n",
    "plt.xticks([])\n",
    "plt.plot(missing_sum.sort_values([\"ratio\"])[\"ratio\"])\n",
    "plt.show()\n",
    "# On garde les ratio == 1\n",
    "missing_sum_1 = missing_sum[missing_sum[\"ratio\"] == 1]\n",
    "\n",
    "ratio_missing = missing_sum[\"nb_manquants\"].sum() / data.size\n",
    "\n",
    "print(f\"Sur tout le dataset, on a un taux de valeurs manquantes qui équivaut à {(ratio_missing*100):.2f} %.\")\n",
    "print(f\"Sur {len(missing_sum)} colonnes, il y en a {len(missing_sum_1)} qui n'ont aucune valeurs\")\n",
    "print(f\"Les colonnes qui n'ont aucune valeurs sont les suivantes :\")\n",
    "print(missing_sum_1.index.to_numpy())"
   ]
  },
  {
   "cell_type": "markdown",
   "metadata": {},
   "source": [
    "La conclusion de cette analyse est qu'actuellement nous disposons de 25 % de données exploitables. On aura certainement une valeur différente après le traitement des valeurs manquantes."
   ]
  },
  {
   "attachments": {},
   "cell_type": "markdown",
   "metadata": {},
   "source": [
    "## Conservation des données utiles au projet uniquement"
   ]
  },
  {
   "cell_type": "code",
   "execution_count": 6,
   "metadata": {},
   "outputs": [
    {
     "name": "stdout",
     "output_type": "stream",
     "text": [
      "Après conservation des données utiles au projet, il n'y a plus que 41.74 % de valeurs manquantes.\n"
     ]
    }
   ],
   "source": [
    "\n",
    "data = data.filter([\n",
    "    \"url\",\n",
    "    \"product_name\",\n",
    "    \"generic_name\",\n",
    "    \"quantity\",\n",
    "    \"packaging\",\n",
    "    \"packaging_tags\",\n",
    "    \"countries_tags\",\n",
    "    \"image_url\",\n",
    "    \"image_small_url\",\n",
    "    \"nutrition-score-fr_100g\",\n",
    "    \"additives_n\",\n",
    "    \"fat_100g\",\n",
    "    \"saturated-fat_100g\",\n",
    "    \"energy_100g\"\n",
    "], axis=1)\n",
    "\n",
    "missing_ratio = pd.DataFrame(data.isna().sum(), columns=['nb_manquants']).sum() / data.size\n",
    "\n",
    "print(f\"Après conservation des données utiles au projet, il n'y a plus que {(missing_ratio[0]*100):.2f} % de valeurs manquantes.\")"
   ]
  },
  {
   "cell_type": "markdown",
   "metadata": {},
   "source": [
    "# Traitement des erreurs sur les variables générales"
   ]
  },
  {
   "attachments": {},
   "cell_type": "markdown",
   "metadata": {},
   "source": [
    "### Les champs `product_name` et `generic_name`\n",
    "\n",
    "On pourra utiliser principalement le `product_name` pour récupérer le nom du produit et en cas d'erreur essayer d'utiliser le `generic_name`.\n",
    "Ainsi on peut donc d'abord corriger les données de `generic_name` pour être sûr que la valeur qui sera possiblement remplacée dans `generic_name` sera valide. Ensuite on pourra corriger les autres données de `product_name` qui n'ont pas été remplacée mais qui malgré tout ne sont pas acceptables.\n",
    "\n",
    "Si malgré tout il y a des valeurs qui ne sont pas définies, on gardera ces lignes car ce qui compte c'est d'effectuer des comparaisons avec d'autres données. De plus, si on ne conservait pas ces lignes, comme on peut le voir dans le script, il ne nous resterait que peu de données à exploiter.\n",
    "\n",
    "Les traitements à effectuer sur `generic_name` sont les suivants :\n",
    "- Ne pas prendre en compte les nulls\n",
    "- Il y a des champs avec uniquement un espace à l'intérieur. On ne peut corriger ces lignes\n",
    "- Ne pas prendre en compte les noms trop long car sinon ce n'est plus un nom mais une description. On ne peut pas corriger ces lignes. Même en séparant par une virgule cela ne fonctionne pas car dans la plupart des cas on obtient plusieurs fois le même nom.\n",
    "\n",
    "Les traitements à effectuer sur `product_name` sont les suivants:\n",
    "- Ne pas prendre en compte les nulls\n",
    "- Remplacer les valeurs non valide par sa valeur `generic_name`, `generic_name` étant valide"
   ]
  },
  {
   "cell_type": "code",
   "execution_count": 7,
   "metadata": {},
   "outputs": [
    {
     "name": "stdout",
     "output_type": "stream",
     "text": [
      "Il y a 38739 generic_names sur 320773 qui sont considérés comme valide, soit 12.08 %\n",
      "Il y a 83 lignes pour lesquelles il existe un generic_name valide mais pas de product_name valide\n"
     ]
    }
   ],
   "source": [
    "# On split sur la virgule et récupère le dernier élément qui semble être le plus représentatif d'un vrai nom.\n",
    "data.loc[\"product_name\"] = data[\"product_name\"].str.split(\",\").str[-1]\n",
    "\n",
    "# -------------\n",
    "# generic_name\n",
    "\n",
    "# On conserve les non null\n",
    "generic_exists = data[\"generic_name\"].notna()\n",
    "# On conserve les lignes qui ne contiennent pas uniquement des espaces\n",
    "generic_no_space = data[\"generic_name\"].ne(\" \")\n",
    "# On conserve les noms en dessous de 50 caractères\n",
    "generic_not_long = data[\"generic_name\"].fillna(\"\").str.len() < 50\n",
    "# Test booléen\n",
    "generic = generic_exists & generic_no_space & generic_not_long\n",
    "# Table qui contient les éléments qui respectent les critères précédents\n",
    "generic_match = data.loc[generic, [\"generic_name\"]]\n",
    "print(f\"Il y a {generic_match.size} generic_names sur {data.shape[0]} qui sont considérés comme valide, soit {((generic_match.size/data.shape[0])*100):.2f} %\")\n",
    "\n",
    "# -------------\n",
    "# product_name\n",
    "\n",
    "# Retirer les nulls\n",
    "product_exists = data[\"product_name\"].notna()\n",
    "# Table qui contient les éléments qui respectent les critères précédents\n",
    "product_match = data.loc[product_exists, [\"product_name\"]]\n",
    "\n",
    "# Colonnes qui ne contiennent pas de product_name mais contiennent un generic_name\n",
    "no_product_with_generic = (~product_exists) & generic\n",
    "print(f\"Il y a {no_product_with_generic.value_counts()[True]} lignes pour lesquelles il existe un generic_name valide mais pas de product_name valide\")\n",
    "\n",
    "# Remplacer les product_name non valide par son generic_name valide dans data\n",
    "data.loc[no_product_with_generic, [\"product_name\"]] = data.loc[no_product_with_generic, [\"generic_name\"]]\n",
    "\n",
    "# On peut désormait retirer generic_name qui n'est plus d'aucune utilité\n",
    "data.drop([\"generic_name\"], axis=1, inplace=True)"
   ]
  },
  {
   "attachments": {},
   "cell_type": "markdown",
   "metadata": {},
   "source": [
    "### La colonne `countries_tags`\n",
    "\n",
    "Pour le projet il est important de recenser les pays qui sont mentionnés dans nos données. Dans les données proposée, il y avais également le champ `countries` mais j'ai remarqué qu'il y avait quelques erreurs dedans. Je préfère créer un dictionnaire qui va me permettre de convertir les tags en nom pour pouvoir les utiliser plus tard. C'est ce qui me permet de corriger de la façon la plus simple les erreurs de lexicales.\n",
    "\n",
    "Certains tags ne veulent rien dire, par exemple avec la valeur `Catégories complétées`. On peut donc éliminer ce type de lignes.\n",
    "\n",
    "Il y a également un mixe entre les pays avec des valeurs en `en:...` et `fr:...`. Ce sont différentes façon d'écrire un même pays."
   ]
  },
  {
   "cell_type": "code",
   "execution_count": 8,
   "metadata": {},
   "outputs": [
    {
     "name": "stderr",
     "output_type": "stream",
     "text": [
      "/home/alan/miniconda3/envs/oc/lib/python3.10/site-packages/pandas/core/indexing.py:2120: FutureWarning: In a future version, the Index constructor will not infer numeric dtypes when passed object-dtype sequences (matching Series behavior)\n",
      "  new_ix = Index(new_ix)\n"
     ]
    }
   ],
   "source": [
    "import utils.countriesMap as cm\n",
    "import re\n",
    "\n",
    "countries_tags_count = data[\"countries_tags\"].value_counts()\n",
    "\n",
    "# On récupère toutes les valeurs possibles de tags et on en garde 1 seul exemplaire\n",
    "all_countries = pd.DataFrame(countries_tags_count.index.str.split(',')).explode(0).drop_duplicates()\n",
    "# Il y a des pays qui ne contiennent pas le string \":\". Ce ne sont donc pas des pays\n",
    "all_countries = all_countries.loc[all_countries[0].str.contains(\":\")]\n",
    "# On retire les préfixes\n",
    "all_countries[0].replace('^.*:','', regex=True, inplace=True)\n",
    "# Cela peut entrainé des doublons, par exemple fr:france et en:france => france et france\n",
    "all_countries.drop_duplicates(inplace=True)\n",
    "\n",
    "def map_country(c_list):\n",
    "    c_list = list(map(lambda y: re.sub('^.*:','', y),c_list))\n",
    "    try :\n",
    "        # On map le nom de pays dans la langue inconnue à son pays en français\n",
    "        c_list = list(map(lambda y: cm.countries[y],c_list))\n",
    "    except:\n",
    "        return np.NaN\n",
    "    return \",\".join(c_list)\n",
    "\n",
    "# Tous les pays définis\n",
    "defined_countries = ~data[\"countries_tags\"].isna()\n",
    "# On créer une colonne \"countries\" dans laquelle on met le mapping de leur tag \"countries_tags\"\n",
    "data.loc[defined_countries, \"countries\"] = data.loc[defined_countries, \"countries_tags\"].str.split(\",\").apply(map_country)"
   ]
  },
  {
   "cell_type": "markdown",
   "metadata": {},
   "source": [
    "Dans une future version on pourra remplacer \"Tous\" par une extension à tous les pays disponible.\n",
    "\n",
    "On peut également remplacer \"gulf_countries\" (Émirats Arabes Unis, Oman, Koweit, Arabie Saoudite, Qatar) par une extension à tous les pays du golf.\n",
    "\n",
    "### Ex :\n",
    "\n",
    "Remplacer \n",
    "\n",
    "| pays|.... | nutriscore |\n",
    "| ---- | --- | ---|\n",
    "| Tous |....| A|\n",
    "\n",
    "Par\n",
    "\n",
    "| pays |.... | nutriscore |\n",
    "| ---- | --- | ---|\n",
    "| France |....| A|\n",
    "| Allemagne |....| A|\n",
    "| .... |....| ....|\n",
    "| Méxique |....| A|\n",
    "| Tunisie |....| A|"
   ]
  },
  {
   "cell_type": "markdown",
   "metadata": {},
   "source": [
    "On a maintenant la colonne des pays avec le bon nom.\n",
    "\n",
    "On peut donc retirer la colonne \"countries_tags\" et retirer les valeurs null restante de \"countries\""
   ]
  },
  {
   "cell_type": "code",
   "execution_count": 9,
   "metadata": {},
   "outputs": [],
   "source": [
    "# Maintenant que le traitement est effectué, on peut supprimer \"countries_tags\"\n",
    "data.drop(\"countries_tags\", axis=1, inplace=True)\n",
    "# Retirer les lignes qui n'ont pas de pays\n",
    "defined_countries = ~data[\"countries\"].isna()\n",
    "data = data.loc[defined_countries]"
   ]
  },
  {
   "cell_type": "code",
   "execution_count": 10,
   "metadata": {},
   "outputs": [
    {
     "data": {
      "text/plain": [
       "États-Unis                     173464\n",
       "France                          98435\n",
       "Suisse                          16919\n",
       "Allemagne                        8673\n",
       "Royaume-Uni                      5629\n",
       "                                ...  \n",
       "Îles Vierges des États-Unis         1\n",
       "Suriname                            1\n",
       "Honduras                            1\n",
       "Porto Rico                          1\n",
       "Burundi                             1\n",
       "Name: countries, Length: 117, dtype: int64"
      ]
     },
     "execution_count": 10,
     "metadata": {},
     "output_type": "execute_result"
    }
   ],
   "source": [
    "# On peut regarder les nombre de fois qu'un pays est dans une ligne\n",
    "data[\"countries\"].str.split(\",\").explode().value_counts()"
   ]
  },
  {
   "cell_type": "markdown",
   "metadata": {},
   "source": [
    "### Le nutriscore\n",
    "\n",
    "Notre mesure la plus importante est le nutriscore. C'est principalement grâce à elle que l'on pourra comparer les pays. Les données de base sont propres. Les conversions entre le nutriscore français (A,B,C,D,E) et la version anglais avec des nombres (entre -15 et 40, -15 correspondant à A et 40 à E) "
   ]
  },
  {
   "cell_type": "code",
   "execution_count": 11,
   "metadata": {},
   "outputs": [
    {
     "name": "stdout",
     "output_type": "stream",
     "text": [
      "Il y a 30.96 % de valeurs de nutri-score non définies\n"
     ]
    }
   ],
   "source": [
    "data.rename(columns={\"nutrition-score-fr_100g\":\"nutri_score_int\"}, inplace=True)\n",
    "# On regarde les valeurs nulls de nutri_score_int\n",
    "missing = data[\"nutri_score_int\"].isna() | (data[\"nutri_score_int\"].isin([\"nan\"]))\n",
    "# On récupère le nombre de True normalisé\n",
    "n = missing.value_counts(normalize=True)[True]\n",
    "\n",
    "print(f\"Il y a {(n*100):.2f} % de valeurs de nutri-score non définies\")"
   ]
  },
  {
   "cell_type": "code",
   "execution_count": 12,
   "metadata": {},
   "outputs": [],
   "source": [
    "# Les valeurs du nutriscore qui ne sont pas définies pourront être potentiellement calculées plus tard.\n",
    "# Pour le moment on se contente de supprimer les lignes où le nutriscore est null\n",
    "data = data[~missing]"
   ]
  },
  {
   "cell_type": "code",
   "execution_count": 13,
   "metadata": {},
   "outputs": [],
   "source": [
    "# On recalcule le nutri score depuis les valeurs numériques\n",
    "data[\"nutri_score\"] = pd.cut(data[\"nutri_score_int\"], bins=[-15, 0, 3, 11, 19, 40], labels=[\"A\", \"B\", \"C\", \"D\", \"E\"])"
   ]
  },
  {
   "attachments": {},
   "cell_type": "markdown",
   "metadata": {},
   "source": [
    "### Données autour du nutriscore\n",
    "\n",
    "Il serait certainement utile d'utiliser des données relatives au calcul du nutriscore afin de moi même calculer celui-ci. Je pourrai ensuite, si le besoin d'analyse serait pertinent, modifier le calcul et effectuer de nouveau mon analyse.\n",
    "\n",
    "Dans ce cours, il m'est demandé de \"mettre en évidence les valeurs manquantes et d'utiliser au moins 3 méthodes de traitement adaptées aux variables concernées\". On va donc choisir une de ces methodes pour le `fat_100g`."
   ]
  },
  {
   "cell_type": "code",
   "execution_count": 14,
   "metadata": {},
   "outputs": [
    {
     "name": "stdout",
     "output_type": "stream",
     "text": [
      "Il y a 92.09 % de valeurs définies pour fat_100g\n"
     ]
    }
   ],
   "source": [
    "t, fat_100g = defined_percentage(data, \"fat_100g\")\n",
    "print(f\"Il y a {t:.2f} % de valeurs définies pour fat_100g\")"
   ]
  },
  {
   "cell_type": "markdown",
   "metadata": {},
   "source": [
    "Je peux donc utiliser une des techniques à ma disposition pour remplir les 14 % non définis restant.\n",
    "Mais en réalité on ne prends pas en compte les valeurs abbérantes. En effet, les valeurs abbérantes ne sont pas considérées comme nulls. Alors on doit également utiliser la méthode correction des valeurs abbérantes pour traiter ces cas."
   ]
  },
  {
   "cell_type": "code",
   "execution_count": 15,
   "metadata": {},
   "outputs": [
    {
     "name": "stdout",
     "output_type": "stream",
     "text": [
      "Avec valeurs abbérantes\n"
     ]
    },
    {
     "data": {
      "image/png": "[encoded data removed]",
      "text/plain": [
       "<Figure size 640x480 with 1 Axes>"
      ]
     },
     "metadata": {},
     "output_type": "display_data"
    },
    {
     "name": "stdout",
     "output_type": "stream",
     "text": [
      "Sans valeurs abbérantes\n"
     ]
    },
    {
     "data": {
      "image/png": "[encoded data removed]",
      "text/plain": [
       "<Figure size 640x480 with 1 Axes>"
      ]
     },
     "metadata": {},
     "output_type": "display_data"
    }
   ],
   "source": [
    "print(\"Avec valeurs abbérantes\")\n",
    "plt.boxplot(fat_100g, labels=[\"fat_100g\"])\n",
    "plt.show()\n",
    "\n",
    "\n",
    "print(\"Sans valeurs abbérantes\")\n",
    "fat_100g_correct = data[\"fat_100g\"].notna() & (data[\"fat_100g\"] <= 100) & (data[\"fat_100g\"] >= 0)\n",
    "fat_100g = data.loc[fat_100g_correct, \"fat_100g\"]\n",
    "plt.boxplot(fat_100g, labels=[\"fat_100g\"])\n",
    "plt.show()"
   ]
  },
  {
   "cell_type": "code",
   "execution_count": 16,
   "metadata": {},
   "outputs": [
    {
     "data": {
      "image/png": "[encoded data removed]",
      "text/plain": [
       "<Figure size 640x480 with 1 Axes>"
      ]
     },
     "metadata": {},
     "output_type": "display_data"
    },
    {
     "name": "stdout",
     "output_type": "stream",
     "text": [
      "On peut vérifier qu'on a bien aucune valeur null\n",
      "Il y a 100.0 % de valeurs définies pour fat_100g\n"
     ]
    }
   ],
   "source": [
    "# Maintenant qu'on a identifié les valeurs atypiques, on peut les traiter\n",
    "# On pourra utiliser la moyenne pour traiter les valeurs manquantes puisqu'elle n'est désormais plus affaiblie par les valeurs abbérantes.\n",
    "# En effet, il n'y a que des valeurs correctes. On aurait pu remplacer par la valeur médiane pour faire notre correction. (sans filtrer les valeurs abbérantes)\n",
    "# Réalisons une imputation par la moyenne :\n",
    "data.loc[~fat_100g_correct, \"fat_100g\"] = round(fat_100g.mean(), 2)\n",
    "fat_100g = data[\"fat_100g\"]\n",
    "plt.boxplot(fat_100g, labels=[\"fat_100g\"])\n",
    "plt.show()\n",
    "print(\"On peut vérifier qu'on a bien aucune valeur null\")\n",
    "t, fat_100g = defined_percentage(data, \"fat_100g\")\n",
    "print(f\"Il y a {t} % de valeurs définies pour fat_100g\")"
   ]
  },
  {
   "cell_type": "code",
   "execution_count": 17,
   "metadata": {},
   "outputs": [
    {
     "name": "stdout",
     "output_type": "stream",
     "text": [
      "Sans valeurs abbérantes\n"
     ]
    },
    {
     "data": {
      "image/png": "[encoded data removed]",
      "text/plain": [
       "<Figure size 640x480 with 1 Axes>"
      ]
     },
     "metadata": {},
     "output_type": "display_data"
    }
   ],
   "source": [
    "# Pareil pour le gras, on peut utiliser cette fois-ci la médiane et supprimer ensuite les valeurs abbérantes\n",
    "print(\"Sans valeurs abbérantes\")\n",
    "fat_100g_correct = data[\"fat_100g\"].notna() & (data[\"fat_100g\"] <= 100) & (data[\"fat_100g\"] >= 0)\n",
    "fat_100g = data.loc[fat_100g_correct, \"fat_100g\"]\n",
    "plt.boxplot(fat_100g, labels=[\"fat_100g\"])\n",
    "plt.show()"
   ]
  },
  {
   "cell_type": "code",
   "execution_count": 18,
   "metadata": {},
   "outputs": [],
   "source": [
    "# On reset l'index des lignes avant d'utiliser dans l'analyse\n",
    "data.reset_index(drop=True, inplace=True)"
   ]
  },
  {
   "cell_type": "markdown",
   "metadata": {},
   "source": [
    "# Suite\n",
    "\n",
    "Pour la suite du projet on peut corriger les valeurs aboutissant au nutri-score. Ainsi on ferai un indicateur \"fait maison\" à utiliser dans l'analyse pour indiquer les voyageurs suivant le nutri-score universelle et suivant d'autres indicateurs\n",
    "\n",
    "Aller voir le fichier `analyse.ipynb` pour la partie d'analyse."
   ]
  }
 ],
 "metadata": {
  "kernelspec": {
   "display_name": "Python 3.10.6 ('oc')",
   "language": "python",
   "name": "python3"
  },
  "language_info": {
   "codemirror_mode": {
    "name": "ipython",
    "version": 3
   },
   "file_extension": ".py",
   "mimetype": "text/x-python",
   "name": "python",
   "nbconvert_exporter": "python",
   "pygments_lexer": "ipython3",
   "version": "3.10.6"
  },
  "orig_nbformat": 4,
  "vscode": {
   "interpreter": {
    "hash": "e297204aacfc4597d7d358135a658faf9a53ab85f698c95c4e6ba1d206a216bb"
   }
  }
 },
 "nbformat": 4,
 "nbformat_minor": 2
}
